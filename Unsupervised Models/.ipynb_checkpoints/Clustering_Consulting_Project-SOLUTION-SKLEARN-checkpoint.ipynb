{
 "cells": [
  {
   "cell_type": "markdown",
   "metadata": {},
   "source": [
    "# Clustering Consulting Project \n",
    "\n",
    "A large technology firm needs your help, they've been hacked! Luckily their forensic engineers have grabbed valuable data about the hacks, including information like session time,locations, wpm typing speed, etc. The forensic engineer relates to you what she has been able to figure out so far, she has been able to grab meta data of each session that the hackers used to connect to their servers. These are the features of the data:\n",
    "\n",
    "* 'Session_Connection_Time': How long the session lasted in minutes\n",
    "* 'Bytes Transferred': Number of MB transferred during session\n",
    "* 'Kali_Trace_Used': Indicates if the hacker was using Kali Linux\n",
    "* 'Servers_Corrupted': Number of server corrupted during the attack\n",
    "* 'Pages_Corrupted': Number of pages illegally accessed\n",
    "* 'Location': Location attack came from (Probably useless because the hackers used VPNs)\n",
    "* 'WPM_Typing_Speed': Their estimated typing speed based on session logs.\n",
    "\n",
    "\n",
    "The technology firm has 3 potential hackers that perpetrated the attack. Their certain of the first two hackers but they aren't very sure if the third hacker was involved or not. They have requested your help! Can you help figure out whether or not the third suspect had anything to do with the attacks, or was it just two hackers? It's probably not possible to know for sure, but maybe what you've just learned about Clustering can help!\n",
    "\n",
    "**One last key fact, the forensic engineer knows that the hackers trade off attacks. Meaning they should each have roughly the same amount of attacks. For example if there were 100 total attacks, then in a 2 hacker situation each should have about 50 hacks, in a three hacker situation each would have about 33 hacks. The engineer believes this is the key element to solving this, but doesn't know how to distinguish this unlabeled data into groups of hackers.**"
   ]
  },
  {
   "cell_type": "code",
   "execution_count": 3,
   "metadata": {},
   "outputs": [
    {
     "data": {
      "text/html": [
       "<div>\n",
       "<style scoped>\n",
       "    .dataframe tbody tr th:only-of-type {\n",
       "        vertical-align: middle;\n",
       "    }\n",
       "\n",
       "    .dataframe tbody tr th {\n",
       "        vertical-align: top;\n",
       "    }\n",
       "\n",
       "    .dataframe thead th {\n",
       "        text-align: right;\n",
       "    }\n",
       "</style>\n",
       "<table border=\"1\" class=\"dataframe\">\n",
       "  <thead>\n",
       "    <tr style=\"text-align: right;\">\n",
       "      <th></th>\n",
       "      <th>Session_Connection_Time</th>\n",
       "      <th>Bytes Transferred</th>\n",
       "      <th>Kali_Trace_Used</th>\n",
       "      <th>Servers_Corrupted</th>\n",
       "      <th>Pages_Corrupted</th>\n",
       "      <th>Location</th>\n",
       "      <th>WPM_Typing_Speed</th>\n",
       "    </tr>\n",
       "  </thead>\n",
       "  <tbody>\n",
       "    <tr>\n",
       "      <th>0</th>\n",
       "      <td>8.0</td>\n",
       "      <td>391.09</td>\n",
       "      <td>1</td>\n",
       "      <td>2.96</td>\n",
       "      <td>7.0</td>\n",
       "      <td>Slovenia</td>\n",
       "      <td>72.37</td>\n",
       "    </tr>\n",
       "    <tr>\n",
       "      <th>1</th>\n",
       "      <td>20.0</td>\n",
       "      <td>720.99</td>\n",
       "      <td>0</td>\n",
       "      <td>3.04</td>\n",
       "      <td>9.0</td>\n",
       "      <td>British Virgin Islands</td>\n",
       "      <td>69.08</td>\n",
       "    </tr>\n",
       "    <tr>\n",
       "      <th>2</th>\n",
       "      <td>31.0</td>\n",
       "      <td>356.32</td>\n",
       "      <td>1</td>\n",
       "      <td>3.71</td>\n",
       "      <td>8.0</td>\n",
       "      <td>Tokelau</td>\n",
       "      <td>70.58</td>\n",
       "    </tr>\n",
       "    <tr>\n",
       "      <th>3</th>\n",
       "      <td>2.0</td>\n",
       "      <td>228.08</td>\n",
       "      <td>1</td>\n",
       "      <td>2.48</td>\n",
       "      <td>8.0</td>\n",
       "      <td>Bolivia</td>\n",
       "      <td>70.80</td>\n",
       "    </tr>\n",
       "    <tr>\n",
       "      <th>4</th>\n",
       "      <td>20.0</td>\n",
       "      <td>408.50</td>\n",
       "      <td>0</td>\n",
       "      <td>3.57</td>\n",
       "      <td>8.0</td>\n",
       "      <td>Iraq</td>\n",
       "      <td>71.28</td>\n",
       "    </tr>\n",
       "    <tr>\n",
       "      <th>...</th>\n",
       "      <td>...</td>\n",
       "      <td>...</td>\n",
       "      <td>...</td>\n",
       "      <td>...</td>\n",
       "      <td>...</td>\n",
       "      <td>...</td>\n",
       "      <td>...</td>\n",
       "    </tr>\n",
       "    <tr>\n",
       "      <th>329</th>\n",
       "      <td>39.0</td>\n",
       "      <td>761.91</td>\n",
       "      <td>1</td>\n",
       "      <td>6.99</td>\n",
       "      <td>14.0</td>\n",
       "      <td>Belarus</td>\n",
       "      <td>43.23</td>\n",
       "    </tr>\n",
       "    <tr>\n",
       "      <th>330</th>\n",
       "      <td>43.0</td>\n",
       "      <td>983.48</td>\n",
       "      <td>0</td>\n",
       "      <td>8.60</td>\n",
       "      <td>13.0</td>\n",
       "      <td>British Indian Ocean Territory (Chagos Archipe...</td>\n",
       "      <td>43.21</td>\n",
       "    </tr>\n",
       "    <tr>\n",
       "      <th>331</th>\n",
       "      <td>39.0</td>\n",
       "      <td>690.22</td>\n",
       "      <td>1</td>\n",
       "      <td>6.80</td>\n",
       "      <td>13.0</td>\n",
       "      <td>Guinea-Bissau</td>\n",
       "      <td>42.75</td>\n",
       "    </tr>\n",
       "    <tr>\n",
       "      <th>332</th>\n",
       "      <td>36.0</td>\n",
       "      <td>1060.69</td>\n",
       "      <td>1</td>\n",
       "      <td>6.26</td>\n",
       "      <td>14.0</td>\n",
       "      <td>Canada</td>\n",
       "      <td>43.86</td>\n",
       "    </tr>\n",
       "    <tr>\n",
       "      <th>333</th>\n",
       "      <td>42.0</td>\n",
       "      <td>729.47</td>\n",
       "      <td>0</td>\n",
       "      <td>7.95</td>\n",
       "      <td>14.0</td>\n",
       "      <td>Tuvalu</td>\n",
       "      <td>45.27</td>\n",
       "    </tr>\n",
       "  </tbody>\n",
       "</table>\n",
       "<p>334 rows × 7 columns</p>\n",
       "</div>"
      ],
      "text/plain": [
       "     Session_Connection_Time  Bytes Transferred  Kali_Trace_Used  \\\n",
       "0                        8.0             391.09                1   \n",
       "1                       20.0             720.99                0   \n",
       "2                       31.0             356.32                1   \n",
       "3                        2.0             228.08                1   \n",
       "4                       20.0             408.50                0   \n",
       "..                       ...                ...              ...   \n",
       "329                     39.0             761.91                1   \n",
       "330                     43.0             983.48                0   \n",
       "331                     39.0             690.22                1   \n",
       "332                     36.0            1060.69                1   \n",
       "333                     42.0             729.47                0   \n",
       "\n",
       "     Servers_Corrupted  Pages_Corrupted  \\\n",
       "0                 2.96              7.0   \n",
       "1                 3.04              9.0   \n",
       "2                 3.71              8.0   \n",
       "3                 2.48              8.0   \n",
       "4                 3.57              8.0   \n",
       "..                 ...              ...   \n",
       "329               6.99             14.0   \n",
       "330               8.60             13.0   \n",
       "331               6.80             13.0   \n",
       "332               6.26             14.0   \n",
       "333               7.95             14.0   \n",
       "\n",
       "                                              Location  WPM_Typing_Speed  \n",
       "0                                             Slovenia             72.37  \n",
       "1                               British Virgin Islands             69.08  \n",
       "2                                              Tokelau             70.58  \n",
       "3                                              Bolivia             70.80  \n",
       "4                                                 Iraq             71.28  \n",
       "..                                                 ...               ...  \n",
       "329                                            Belarus             43.23  \n",
       "330  British Indian Ocean Territory (Chagos Archipe...             43.21  \n",
       "331                                      Guinea-Bissau             42.75  \n",
       "332                                             Canada             43.86  \n",
       "333                                             Tuvalu             45.27  \n",
       "\n",
       "[334 rows x 7 columns]"
      ]
     },
     "execution_count": 3,
     "metadata": {},
     "output_type": "execute_result"
    }
   ],
   "source": [
    "import pandas as pd\n",
    "from sklearn.preprocessing import StandardScaler\n",
    "from sklearn.cluster import KMeans\n",
    "\n",
    "data = pd.read_csv(\"data/hack_data.csv\",header=0)\n",
    "\n",
    "data"
   ]
  },
  {
   "cell_type": "code",
   "execution_count": 6,
   "metadata": {},
   "outputs": [
    {
     "data": {
      "text/html": [
       "<div>\n",
       "<style scoped>\n",
       "    .dataframe tbody tr th:only-of-type {\n",
       "        vertical-align: middle;\n",
       "    }\n",
       "\n",
       "    .dataframe tbody tr th {\n",
       "        vertical-align: top;\n",
       "    }\n",
       "\n",
       "    .dataframe thead th {\n",
       "        text-align: right;\n",
       "    }\n",
       "</style>\n",
       "<table border=\"1\" class=\"dataframe\">\n",
       "  <thead>\n",
       "    <tr style=\"text-align: right;\">\n",
       "      <th></th>\n",
       "      <th>Session_Connection_Time</th>\n",
       "      <th>Bytes Transferred</th>\n",
       "      <th>Kali_Trace_Used</th>\n",
       "      <th>Servers_Corrupted</th>\n",
       "      <th>Pages_Corrupted</th>\n",
       "      <th>WPM_Typing_Speed</th>\n",
       "    </tr>\n",
       "  </thead>\n",
       "  <tbody>\n",
       "    <tr>\n",
       "      <th>0</th>\n",
       "      <td>8.0</td>\n",
       "      <td>391.09</td>\n",
       "      <td>1</td>\n",
       "      <td>2.96</td>\n",
       "      <td>7.0</td>\n",
       "      <td>72.37</td>\n",
       "    </tr>\n",
       "    <tr>\n",
       "      <th>1</th>\n",
       "      <td>20.0</td>\n",
       "      <td>720.99</td>\n",
       "      <td>0</td>\n",
       "      <td>3.04</td>\n",
       "      <td>9.0</td>\n",
       "      <td>69.08</td>\n",
       "    </tr>\n",
       "    <tr>\n",
       "      <th>2</th>\n",
       "      <td>31.0</td>\n",
       "      <td>356.32</td>\n",
       "      <td>1</td>\n",
       "      <td>3.71</td>\n",
       "      <td>8.0</td>\n",
       "      <td>70.58</td>\n",
       "    </tr>\n",
       "    <tr>\n",
       "      <th>3</th>\n",
       "      <td>2.0</td>\n",
       "      <td>228.08</td>\n",
       "      <td>1</td>\n",
       "      <td>2.48</td>\n",
       "      <td>8.0</td>\n",
       "      <td>70.80</td>\n",
       "    </tr>\n",
       "    <tr>\n",
       "      <th>4</th>\n",
       "      <td>20.0</td>\n",
       "      <td>408.50</td>\n",
       "      <td>0</td>\n",
       "      <td>3.57</td>\n",
       "      <td>8.0</td>\n",
       "      <td>71.28</td>\n",
       "    </tr>\n",
       "    <tr>\n",
       "      <th>...</th>\n",
       "      <td>...</td>\n",
       "      <td>...</td>\n",
       "      <td>...</td>\n",
       "      <td>...</td>\n",
       "      <td>...</td>\n",
       "      <td>...</td>\n",
       "    </tr>\n",
       "    <tr>\n",
       "      <th>329</th>\n",
       "      <td>39.0</td>\n",
       "      <td>761.91</td>\n",
       "      <td>1</td>\n",
       "      <td>6.99</td>\n",
       "      <td>14.0</td>\n",
       "      <td>43.23</td>\n",
       "    </tr>\n",
       "    <tr>\n",
       "      <th>330</th>\n",
       "      <td>43.0</td>\n",
       "      <td>983.48</td>\n",
       "      <td>0</td>\n",
       "      <td>8.60</td>\n",
       "      <td>13.0</td>\n",
       "      <td>43.21</td>\n",
       "    </tr>\n",
       "    <tr>\n",
       "      <th>331</th>\n",
       "      <td>39.0</td>\n",
       "      <td>690.22</td>\n",
       "      <td>1</td>\n",
       "      <td>6.80</td>\n",
       "      <td>13.0</td>\n",
       "      <td>42.75</td>\n",
       "    </tr>\n",
       "    <tr>\n",
       "      <th>332</th>\n",
       "      <td>36.0</td>\n",
       "      <td>1060.69</td>\n",
       "      <td>1</td>\n",
       "      <td>6.26</td>\n",
       "      <td>14.0</td>\n",
       "      <td>43.86</td>\n",
       "    </tr>\n",
       "    <tr>\n",
       "      <th>333</th>\n",
       "      <td>42.0</td>\n",
       "      <td>729.47</td>\n",
       "      <td>0</td>\n",
       "      <td>7.95</td>\n",
       "      <td>14.0</td>\n",
       "      <td>45.27</td>\n",
       "    </tr>\n",
       "  </tbody>\n",
       "</table>\n",
       "<p>334 rows × 6 columns</p>\n",
       "</div>"
      ],
      "text/plain": [
       "     Session_Connection_Time  Bytes Transferred  Kali_Trace_Used  \\\n",
       "0                        8.0             391.09                1   \n",
       "1                       20.0             720.99                0   \n",
       "2                       31.0             356.32                1   \n",
       "3                        2.0             228.08                1   \n",
       "4                       20.0             408.50                0   \n",
       "..                       ...                ...              ...   \n",
       "329                     39.0             761.91                1   \n",
       "330                     43.0             983.48                0   \n",
       "331                     39.0             690.22                1   \n",
       "332                     36.0            1060.69                1   \n",
       "333                     42.0             729.47                0   \n",
       "\n",
       "     Servers_Corrupted  Pages_Corrupted  WPM_Typing_Speed  \n",
       "0                 2.96              7.0             72.37  \n",
       "1                 3.04              9.0             69.08  \n",
       "2                 3.71              8.0             70.58  \n",
       "3                 2.48              8.0             70.80  \n",
       "4                 3.57              8.0             71.28  \n",
       "..                 ...              ...               ...  \n",
       "329               6.99             14.0             43.23  \n",
       "330               8.60             13.0             43.21  \n",
       "331               6.80             13.0             42.75  \n",
       "332               6.26             14.0             43.86  \n",
       "333               7.95             14.0             45.27  \n",
       "\n",
       "[334 rows x 6 columns]"
      ]
     },
     "execution_count": 6,
     "metadata": {},
     "output_type": "execute_result"
    }
   ],
   "source": [
    "X = data[data.columns.drop('Location')]\n",
    "X"
   ]
  },
  {
   "cell_type": "code",
   "execution_count": 7,
   "metadata": {},
   "outputs": [
    {
     "data": {
      "text/plain": [
       "array([[0.56870307, 1.36789253, 2.00057395, 1.28781971, 2.28837682,\n",
       "        5.40438742],\n",
       "       [1.42175769, 2.52176439, 0.        , 1.32262565, 2.94219876,\n",
       "        5.15869951],\n",
       "       [2.20372441, 1.24627954, 2.00057395, 1.61412538, 2.61528779,\n",
       "        5.27071527],\n",
       "       ...,\n",
       "       [2.77242749, 2.41414197, 2.00057395, 2.95850473, 4.24984266,\n",
       "        3.19244939],\n",
       "       [2.55916384, 3.70991313, 2.00057395, 2.72356465, 4.57675363,\n",
       "        3.27534106],\n",
       "       [2.98569114, 2.55142439, 0.        , 3.45884009, 4.57675363,\n",
       "        3.38063588]])"
      ]
     },
     "execution_count": 7,
     "metadata": {},
     "output_type": "execute_result"
    }
   ],
   "source": [
    "scaler = StandardScaler(with_mean=False)\n",
    "\n",
    "scaled_X = scaler.fit_transform(X)\n",
    "scaled_X\n"
   ]
  },
  {
   "cell_type": "code",
   "execution_count": 24,
   "metadata": {},
   "outputs": [
    {
     "name": "stdout",
     "output_type": "stream",
     "text": [
      "2: 603.577870640845\n",
      "3: 435.45304149281816\n"
     ]
    }
   ],
   "source": [
    "kmeans2 = KMeans(n_clusters=2,n_init=10)\n",
    "kmeans3 = KMeans(n_clusters=3,n_init=10)\n",
    "\n",
    "kmeans2.fit(scaled_X)\n",
    "kmeans3.fit(scaled_X)\n",
    "\n",
    "print(f'2: {kmeans2.inertia_}')\n",
    "print(f'3: {kmeans3.inertia_}')\n"
   ]
  },
  {
   "cell_type": "code",
   "execution_count": 25,
   "metadata": {},
   "outputs": [
    {
     "data": {
      "image/png": "[encoded data removed]",
      "text/plain": [
       "<Figure size 640x480 with 1 Axes>"
      ]
     },
     "metadata": {},
     "output_type": "display_data"
    }
   ],
   "source": [
    "import matplotlib.pyplot as plt\n",
    "import seaborn as sns\n",
    "\n",
    "# Create an empty dictionary to save the within cluster sum of square values\n",
    "wcss = {} \n",
    "\n",
    "\n",
    "# Look through the number of clusters\n",
    "for i in range(1,11):\n",
    "    # Run kmeans model\n",
    "    kmeans = KMeans(n_clusters=i, n_init=10, random_state=0).fit(scaled_X)\n",
    "    #Sum of squared distances of samples to their closest cluster center.\n",
    "    wcss[i] = (kmeans.inertia_)\n",
    "\n",
    "\n",
    "# Visualization\n",
    "plt.plot(list(wcss.keys()),list(wcss.values()))\n",
    "plt.title('Elbow Method')\n",
    "plt.xlabel('Number of Clusters')\n",
    "plt.ylabel('Within Cluster Sum Of Squares')\n",
    "plt.show()"
   ]
  },
  {
   "cell_type": "code",
   "execution_count": 27,
   "metadata": {},
   "outputs": [
    {
     "data": {
      "text/plain": [
       "{1: 2004.0,\n",
       " 2: 603.577870640845,\n",
       " 3: 435.45304149281816,\n",
       " 4: 267.93581472689374,\n",
       " 5: 246.10104477285412,\n",
       " 6: 225.5298742087478,\n",
       " 7: 207.18009489387964,\n",
       " 8: 191.5266129128454,\n",
       " 9: 181.99693795691286,\n",
       " 10: 168.3219329025468}"
      ]
     },
     "execution_count": 27,
     "metadata": {},
     "output_type": "execute_result"
    }
   ],
   "source": [
    "wcss"
   ]
  },
  {
   "cell_type": "code",
   "execution_count": 28,
   "metadata": {},
   "outputs": [
    {
     "name": "stdout",
     "output_type": "stream",
     "text": [
      "Attack distribution for 2 hackers:\n"
     ]
    },
    {
     "data": {
      "text/plain": [
       "1    167\n",
       "0    167\n",
       "Name: count, dtype: int64"
      ]
     },
     "metadata": {},
     "output_type": "display_data"
    },
    {
     "name": "stdout",
     "output_type": "stream",
     "text": [
      "\n",
      "Attack distribution for 3 hackers:\n"
     ]
    },
    {
     "data": {
      "text/plain": [
       "0    167\n",
       "1     84\n",
       "2     83\n",
       "Name: count, dtype: int64"
      ]
     },
     "metadata": {},
     "output_type": "display_data"
    }
   ],
   "source": [
    "print('Attack distribution for 2 hackers:')\n",
    "display(pd.Series(kmeans2.labels_).value_counts())\n",
    "print('\\nAttack distribution for 3 hackers:')\n",
    "display(pd.Series(kmeans3.labels_).value_counts().sort_index())"
   ]
  },
  {
   "cell_type": "code",
   "execution_count": 29,
   "metadata": {},
   "outputs": [
    {
     "name": "stdout",
     "output_type": "stream",
     "text": [
      "2: 6914859.905711958\n",
      "3: 3993473.248753844\n"
     ]
    }
   ],
   "source": [
    "kmeans2 = KMeans(n_clusters=2,n_init=10)\n",
    "kmeans3 = KMeans(n_clusters=3,n_init=10)\n",
    "\n",
    "kmeans2.fit(X)\n",
    "kmeans3.fit(X)\n",
    "\n",
    "print(f'2: {kmeans2.inertia_}')\n",
    "print(f'3: {kmeans3.inertia_}')\n"
   ]
  },
  {
   "cell_type": "code",
   "execution_count": 30,
   "metadata": {},
   "outputs": [
    {
     "data": {
      "image/png": "[encoded data removed]",
      "text/plain": [
       "<Figure size 640x480 with 1 Axes>"
      ]
     },
     "metadata": {},
     "output_type": "display_data"
    }
   ],
   "source": [
    "import matplotlib.pyplot as plt\n",
    "import seaborn as sns\n",
    "\n",
    "# Create an empty dictionary to save the within cluster sum of square values\n",
    "wcss = {} \n",
    "\n",
    "\n",
    "# Look through the number of clusters\n",
    "for i in range(1,11):\n",
    "    # Run kmeans model\n",
    "    kmeans = KMeans(n_clusters=i, n_init=10, random_state=0).fit(X)\n",
    "    #Sum of squared distances of samples to their closest cluster center.\n",
    "    wcss[i] = (kmeans.inertia_)\n",
    "\n",
    "\n",
    "# Visualization\n",
    "plt.plot(list(wcss.keys()),list(wcss.values()))\n",
    "plt.title('Elbow Method')\n",
    "plt.xlabel('Number of Clusters')\n",
    "plt.ylabel('Within Cluster Sum Of Squares')\n",
    "plt.show()"
   ]
  },
  {
   "cell_type": "code",
   "execution_count": 31,
   "metadata": {},
   "outputs": [
    {
     "data": {
      "text/plain": [
       "{1: 27433050.93487186,\n",
       " 2: 6914859.905711958,\n",
       " 3: 4008693.712472262,\n",
       " 4: 2427369.4470156953,\n",
       " 5: 1546697.6157036987,\n",
       " 6: 1148367.8346999136,\n",
       " 7: 891248.7886169045,\n",
       " 8: 667316.8548108067,\n",
       " 9: 533434.3743630275,\n",
       " 10: 401433.77730246185}"
      ]
     },
     "execution_count": 31,
     "metadata": {},
     "output_type": "execute_result"
    }
   ],
   "source": [
    "wcss"
   ]
  },
  {
   "cell_type": "code",
   "execution_count": 32,
   "metadata": {},
   "outputs": [
    {
     "name": "stdout",
     "output_type": "stream",
     "text": [
      "Attack distribution for 2 hackers:\n"
     ]
    },
    {
     "data": {
      "text/plain": [
       "0    171\n",
       "1    163\n",
       "Name: count, dtype: int64"
      ]
     },
     "metadata": {},
     "output_type": "display_data"
    },
    {
     "name": "stdout",
     "output_type": "stream",
     "text": [
      "\n",
      "Attack distribution for 3 hackers:\n"
     ]
    },
    {
     "data": {
      "text/plain": [
       "0     91\n",
       "1    129\n",
       "2    114\n",
       "Name: count, dtype: int64"
      ]
     },
     "metadata": {},
     "output_type": "display_data"
    }
   ],
   "source": [
    "print('Attack distribution for 2 hackers:')\n",
    "display(pd.Series(kmeans2.labels_).value_counts())\n",
    "print('\\nAttack distribution for 3 hackers:')\n",
    "display(pd.Series(kmeans3.labels_).value_counts().sort_index())"
   ]
  },
  {
   "cell_type": "code",
   "execution_count": null,
   "metadata": {},
   "outputs": [],
   "source": []
  }
 ],
 "metadata": {
  "anaconda-cloud": {},
  "kernelspec": {
   "display_name": "Python 3 (ipykernel)",
   "language": "python",
   "name": "python3"
  },
  "language_info": {
   "codemirror_mode": {
    "name": "ipython",
    "version": 3
   },
   "file_extension": ".py",
   "mimetype": "text/x-python",
   "name": "python",
   "nbconvert_exporter": "python",
   "pygments_lexer": "ipython3",
   "version": "3.10.6"
  }
 },
 "nbformat": 4,
 "nbformat_minor": 4
}
