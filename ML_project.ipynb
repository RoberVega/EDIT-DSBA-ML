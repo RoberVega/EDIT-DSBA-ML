{
 "cells": [
  {
   "cell_type": "markdown",
   "id": "a9bdbeb8-273a-498a-abfe-bdcc4ce38bcb",
   "metadata": {},
   "source": [
    "# ML project\n",
    "\n",
    "In this project we will explore a dataset with the following columns:\n",
    "- **RowNumber**—corresponds to the record number.\n",
    "- **CustomerId**—contains the identification number of the client.\n",
    "- **Surname**—the surname of the customer.\n",
    "- **CreditScore**—can have an effect on customer churn, since a customer with a higher credit score is less likely to \n",
    "leave the bank.\n",
    "- **Geography**—the customer’s location.\n",
    "- **Gender**—the customer's gender.\n",
    "- **Age**—this is certainly relevant, since older customers are less likely to leave their bank than younger ones.\n",
    "- **Tenure**—refers to the number of years that the customer has been a client of the bank. Normally, older clients are more loyal and less likely to leave a bank.\n",
    "- **Balance**—also a very good indicator of customer churn, as people with a higher balance in their accounts are less likely to leave the bank compared to those with lower balances.\n",
    "- **NumOfProducts**—refers to the number of products that a customer has purchased through the bank.\n",
    "- **HasCrCard**—denotes whether or not a customer has a credit card. This column is also relevant, since people with a credit card are less likely to leave the bank.\n",
    "- **IsActiveMember**—active customers are less likely to leave the bank.\n",
    "- **EstimatedSalary**—as with balance, people with lower salaries are more likely to leave the bank compared to those with higher salaries.\n",
    "- **Exited**—whether or not the customer left the bank.\n",
    "- **Complain**—customer has complaint or not.\n",
    "- **Satisfaction Score**—Score provided by the customer for their complaint resolution.\n",
    "- **Card Type**—type of card hold by the customer.\n",
    "- **Points Earned**—the points earned by the customer for using credit card.\n",
    "\n",
    "\n",
    "The idea for this project is a pedagogical one: try to explore as many techniques as you can. I understand you have jobs and families and things to do, so I will focus more on the rigor rather than the quantity. \n",
    "\n",
    "## Minimum requirements:\n",
    "\n",
    "1. Explore the data statistics as you have learned in our and previous modules.\n",
    "2. Validation techniques: train/validation/test split is the minimum and most common one, but feel free to explore others.\n",
    "3. Choose a classification model and train it.\n",
    "4. Check the metrics.\n",
    "\n",
    "\n",
    "## Optional things to learn more (ask me if you had any questions):\n",
    "\n",
    "1. Outlier detection\n",
    "2. Feature selection and dimensionality reduction techniques\n",
    "3. Imbalanced dataset techniques\n",
    "4. Hyperparameter tunning\n",
    "5. Statistical tests\n",
    "\n",
    "### NOTE: it is important to comment with text *every step* to show that you understand what you are doing"
   ]
  },
  {
   "cell_type": "code",
   "execution_count": null,
   "id": "5d9d65ba-2129-4343-b5e1-3f8be510d98c",
   "metadata": {},
   "outputs": [],
   "source": [
    "# Import the Customer-Churn-Records.csv file and HAVE FUN\n"
   ]
  }
 ],
 "metadata": {
  "kernelspec": {
   "display_name": "Python 3 (ipykernel)",
   "language": "python",
   "name": "python3"
  },
  "language_info": {
   "codemirror_mode": {
    "name": "ipython",
    "version": 3
   },
   "file_extension": ".py",
   "mimetype": "text/x-python",
   "name": "python",
   "nbconvert_exporter": "python",
   "pygments_lexer": "ipython3",
   "version": "3.10.6"
  }
 },
 "nbformat": 4,
 "nbformat_minor": 5
}
