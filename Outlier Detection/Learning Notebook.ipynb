{
 "cells": [
  {
   "cell_type": "markdown",
   "metadata": {},
   "source": [
    "# Outlier Detection\n",
    "\n",
    "In this section, we will check how we can deal with outliers. There are several methods that one can use to either detect the examples that are outliers and eliminate them or minimize their influence in the model. Let us start with the naive analysis of the dirty dataset."
   ]
  },
  {
   "cell_type": "code",
   "execution_count": 2,
   "metadata": {},
   "outputs": [
    {
     "name": "stdout",
     "output_type": "stream",
     "text": [
      "MAE: 20.643\n"
     ]
    }
   ],
   "source": [
    "import pandas as pd\n",
    "from sklearn.model_selection import train_test_split\n",
    "from sklearn.linear_model import LinearRegression\n",
    "from sklearn.metrics import mean_absolute_error\n",
    "\n",
    "# load the dataset\n",
    "data = pd.read_csv('data/house-prices.csv',index_col=0).drop(columns = ['SellerName'])\n",
    "# most naive treatment (encoding the categoricals)\n",
    "data_ohe = pd.get_dummies(data,drop_first=True)\n",
    "\n",
    "# split into input and output elements\n",
    "X, y = data_ohe.drop(columns=['SalePrice']), data['SalePrice']\n",
    "\n",
    "# split into train and test sets\n",
    "X_train, X_test, y_train, y_test = train_test_split(X, y, test_size=0.33, random_state=1)\n",
    "\n",
    "# fit the model\n",
    "model = LinearRegression()\n",
    "model.fit(X_train, y_train)\n",
    "# evaluate the model\n",
    "yhat = model.predict(X_test)\n",
    "# evaluate predictions\n",
    "mae = mean_absolute_error(y_test, yhat)\n",
    "print('MAE: %.3f' % mae)"
   ]
  },
  {
   "cell_type": "markdown",
   "metadata": {},
   "source": [
    "# Outlier Detection: Elimination\n",
    "\n",
    "## Isolation Forest\n",
    "\n",
    "\n",
    "The Isolation Forest is a tree-based anomaly detection algorithm. It is based on modeling the normal data in such a way as to isolate anomalies that are both few in number and different in the feature space. Perhaps the most important hyperparameter in the model is the “contamination” argument, which is used to help estimate the number of outliers in the dataset. This is a value between 0.0 and 0.5 and by default is set to 0.1."
   ]
  },
  {
   "cell_type": "code",
   "execution_count": 5,
   "metadata": {},
   "outputs": [
    {
     "name": "stdout",
     "output_type": "stream",
     "text": [
      "(978, 189) (978,)\n",
      "(880, 189) (880,)\n",
      "MAE: 18.762\n"
     ]
    },
    {
     "name": "stderr",
     "output_type": "stream",
     "text": [
      "/home/rober/projects/EDIT-DSBA/machine-learning/lib/python3.10/site-packages/sklearn/base.py:439: UserWarning: X does not have valid feature names, but IsolationForest was fitted with feature names\n",
      "  warnings.warn(\n"
     ]
    }
   ],
   "source": [
    "from sklearn.ensemble import IsolationForest\n",
    "\n",
    "# summarize the shape of the training dataset\n",
    "print(X_train.shape, y_train.shape)\n",
    "\n",
    "# identify outliers in the training dataset\n",
    "iso = IsolationForest(contamination=0.1)\n",
    "yhat = iso.fit_predict(X_train)\n",
    "# select all rows that are not outliers\n",
    "mask = yhat != -1\n",
    "X_train_iso, y_train_iso = X_train[mask], y_train[mask]\n",
    "\n",
    "# summarize the shape of the updated training dataset\n",
    "print(X_train_iso.shape, y_train_iso.shape)\n",
    "\n",
    "# fit the model\n",
    "model = LinearRegression()\n",
    "model.fit(X_train_iso, y_train_iso)\n",
    "# evaluate the model\n",
    "y_iso = model.predict(X_test)\n",
    "# evaluate predictions\n",
    "mae = mean_absolute_error(y_test, y_iso)\n",
    "print('MAE: %.3f' % mae)"
   ]
  },
  {
   "cell_type": "markdown",
   "metadata": {},
   "source": [
    "As we can see, we have improved from 20.643 to 18.582 due to reducing the data from 978 to 880 examples.\n",
    "\n",
    "## Minimum Covariance Determinant\n",
    "\n",
    "If the input variables have a Gaussian distribution, then simple statistical methods can be used to detect outliers. For example, if the dataset has two input variables and both are Gaussian, then the feature space forms a multi-dimensional Gaussian and knowledge of this distribution can be used to identify values far from the distribution.\n",
    "\n",
    "This approach can be generalized by defining a hypersphere (ellipsoid) that covers the normal data, and data that falls outside this shape is considered an outlier. An efficient implementation of this technique for multivariate data is known as the Minimum Covariance Determinant, or MCD for short.\n",
    "\n",
    "The scikit-learn library provides access to this method via the EllipticEnvelope class. It provides the “contamination” argument that defines the expected ratio of outliers to be observed in practice. In this case, we will set it to a value of 0.01, found with a little trial and error."
   ]
  },
  {
   "cell_type": "code",
   "execution_count": 61,
   "metadata": {},
   "outputs": [
    {
     "name": "stdout",
     "output_type": "stream",
     "text": [
      "(978, 189) (978,)\n"
     ]
    },
    {
     "name": "stderr",
     "output_type": "stream",
     "text": [
      "/home/rober/.local/lib/python3.7/site-packages/sklearn/covariance/_robust_covariance.py:739: UserWarning: The covariance matrix associated to your dataset is not full rank\n",
      "  \"The covariance matrix associated to your dataset is not full rank\"\n"
     ]
    },
    {
     "name": "stdout",
     "output_type": "stream",
     "text": [
      "(968, 189) (968,)\n",
      "MAE: 20.937\n"
     ]
    }
   ],
   "source": [
    "from sklearn.covariance import EllipticEnvelope\n",
    "\n",
    "# summarize the shape of the training dataset\n",
    "print(X_train.shape, y_train.shape)\n",
    "\n",
    "# identify outliers in the training dataset\n",
    "ee = EllipticEnvelope(contamination=0.01)\n",
    "yhat = ee.fit_predict(X_train)\n",
    "# select all rows that are not outliers\n",
    "mask = yhat != -1\n",
    "X_train_ee, y_train_ee = X_train[mask], y_train[mask]\n",
    "\n",
    "# summarize the shape of the updated training dataset\n",
    "print(X_train_ee.shape, y_train_ee.shape)\n",
    "# fit the model\n",
    "model = LinearRegression()\n",
    "model.fit(X_train_ee, y_train_ee)\n",
    "# evaluate the model\n",
    "yhat = model.predict(X_test)\n",
    "# evaluate predictions\n",
    "mae = mean_absolute_error(y_test, yhat)\n",
    "print('MAE: %.3f' % mae)"
   ]
  },
  {
   "cell_type": "markdown",
   "metadata": {},
   "source": [
    "Note: Your results may vary given the stochastic nature of the algorithm or evaluation procedure, or differences in numerical precision. Consider running the example a few times and compare the average outcome. We see however, that we are even losing precision. This is reasonable given that we are assuming that our features are distributed as gaussians, while we have performed a one-hot encoder for a reasonable amount of features..."
   ]
  },
  {
   "cell_type": "markdown",
   "metadata": {},
   "source": [
    "## Local Outlier Factor\n",
    "\n",
    "A simple approach to identifying outliers is to locate those examples that are far from the other examples in the feature space. This can work well for feature spaces with low dimensionality (few features), although it can become less reliable as the number of features is increased, referred to as the curse of dimensionality.\n",
    "\n",
    "The local outlier factor, or LOF for short, is a technique that attempts to harness the idea of nearest neighbors for outlier detection. Each example is assigned a scoring of how isolated or how likely it is to be outliers based on the size of its local neighborhood. Those examples with the largest score are more likely to be outliers.\n",
    "\n",
    "The model provides the “contamination” argument, that is the expected percentage of outliers in the dataset, be indicated and defaults to 0.1."
   ]
  },
  {
   "cell_type": "code",
   "execution_count": 63,
   "metadata": {},
   "outputs": [
    {
     "name": "stdout",
     "output_type": "stream",
     "text": [
      "(978, 189) (978,)\n",
      "(943, 189) (943,)\n",
      "MAE: 19.576\n"
     ]
    }
   ],
   "source": [
    "from sklearn.neighbors import LocalOutlierFactor\n",
    "\n",
    "print(X_train.shape, y_train.shape)\n",
    "\n",
    "# identify outliers in the training dataset\n",
    "lof = LocalOutlierFactor()\n",
    "yhat = lof.fit_predict(X_train)\n",
    "# select all rows that are not outliers\n",
    "mask = yhat != -1\n",
    "X_train_lof, y_train_lof = X_train[mask], y_train[mask]\n",
    "# summarize the shape of the updated training dataset\n",
    "print(X_train_lof.shape, y_train_lof.shape)\n",
    "# fit the model\n",
    "model = LinearRegression()\n",
    "model.fit(X_train_lof, y_train_lof)\n",
    "# evaluate the model\n",
    "yhat = model.predict(X_test)\n",
    "# evaluate predictions\n",
    "mae = mean_absolute_error(y_test, yhat)\n",
    "print('MAE: %.3f' % mae)"
   ]
  },
  {
   "cell_type": "markdown",
   "metadata": {},
   "source": [
    "## One-Class SVM\n",
    "\n",
    "The support vector machine, or SVM, algorithm developed initially for binary classification can be used for one-class classification. When modeling one class, the algorithm captures the density of the majority class and classifies examples on the extremes of the density function as outliers. This modification of SVM is referred to as One-Class SVM.\n",
    "\n",
    "Although SVM is a classification algorithm and One-Class SVM is also a classification algorithm, it can be used to discover outliers in input data for both regression and classification datasets.\n",
    "\n",
    "The scikit-learn library provides an implementation of one-class SVM in the OneClassSVM class.\n",
    "\n",
    "The class provides the “nu” argument that specifies the approximate ratio of outliers in the dataset, which defaults to 0.1."
   ]
  },
  {
   "cell_type": "code",
   "execution_count": 80,
   "metadata": {},
   "outputs": [
    {
     "name": "stdout",
     "output_type": "stream",
     "text": [
      "(978, 189) (978,)\n",
      "(930, 189) (930,)\n",
      "MAE: 18.284\n"
     ]
    }
   ],
   "source": [
    "from sklearn.svm import OneClassSVM\n",
    "\n",
    "# summarize the shape of the training dataset\n",
    "print(X_train.shape, y_train.shape)\n",
    "\n",
    "# identify outliers in the training dataset\n",
    "ocsvm = OneClassSVM(nu=0.05)\n",
    "yhat = ocsvm.fit_predict(X_train)\n",
    "# select all rows that are not outliers\n",
    "mask = yhat != -1\n",
    "X_train_ocsvm, y_train_ocsvm = X_train[mask], y_train[mask]\n",
    "\n",
    "# summarize the shape of the updated training dataset\n",
    "print(X_train_ocsvm.shape, y_train_ocsvm.shape)\n",
    "\n",
    "# fit the model\n",
    "model = LinearRegression()\n",
    "model.fit(X_train_ocsvm, y_train_ocsvm)\n",
    "# evaluate the model\n",
    "yhat = model.predict(X_test)\n",
    "# evaluate predictions\n",
    "mae = mean_absolute_error(y_test, yhat)\n",
    "print('MAE: %.3f' % mae)"
   ]
  },
  {
   "cell_type": "markdown",
   "metadata": {},
   "source": [
    "## Cook's distance\n",
    "\n",
    "Essentially Cook’s distance measures how much all of the fitted values in the model change when the ith observation is deleted. The larger the value for Cook’s distance, the more influential a given observation.\n",
    "\n",
    "A general rule of thumb is that any observation with a Cook’s distance greater than $\\frac4n$ (where $n =$ total observations) is considered to be highly influential."
   ]
  },
  {
   "cell_type": "code",
   "execution_count": 85,
   "metadata": {},
   "outputs": [
    {
     "name": "stdout",
     "output_type": "stream",
     "text": [
      "                            OLS Regression Results                            \n",
      "==============================================================================\n",
      "Dep. Variable:              SalePrice   R-squared:                       0.921\n",
      "Model:                            OLS   Adj. R-squared:                  0.909\n",
      "Method:                 Least Squares   F-statistic:                     79.33\n",
      "Date:                Mon, 01 May 2023   Prob (F-statistic):               0.00\n",
      "Time:                        17:41:14   Log-Likelihood:                -6609.6\n",
      "No. Observations:                1460   AIC:                         1.359e+04\n",
      "Df Residuals:                    1273   BIC:                         1.458e+04\n",
      "Df Model:                         186                                         \n",
      "Covariance Type:            nonrobust                                         \n",
      "=========================================================================================\n",
      "                            coef    std err          t      P>|t|      [0.025      0.975]\n",
      "-----------------------------------------------------------------------------------------\n",
      "MSSubClass               -0.0097      0.085     -0.114      0.909      -0.177       0.157\n",
      "LotArea                   0.0007      0.000      6.537      0.000       0.000       0.001\n",
      "OverallQual               7.9994      1.017      7.869      0.000       6.005       9.994\n",
      "OverallCond               5.3789      0.869      6.189      0.000       3.674       7.084\n",
      "YearBuilt                 0.3248      0.073      4.422      0.000       0.181       0.469\n",
      "YearRemodAdd              0.1054      0.055      1.908      0.057      -0.003       0.214\n",
      "BsmtFinSF1                0.0179      0.002      8.660      0.000       0.014       0.022\n",
      "BsmtFinSF2                0.0054      0.003      1.558      0.119      -0.001       0.012\n",
      "BsmtUnfSF                -0.0041      0.002     -2.075      0.038      -0.008      -0.000\n",
      "TotalBsmtSF               0.0192      0.003      6.109      0.000       0.013       0.025\n",
      "1stFlrSF                  0.0174      0.006      2.889      0.004       0.006       0.029\n",
      "2ndFlrSF                  0.0324      0.005      6.018      0.000       0.022       0.043\n",
      "LowQualFinSF             -0.0122      0.014     -0.895      0.371      -0.039       0.015\n",
      "GrLivArea                 0.0376      0.005      6.875      0.000       0.027       0.048\n",
      "BsmtFullBath              1.5627      1.964      0.796      0.426      -2.291       5.416\n",
      "BsmtHalfBath              0.2346      3.116      0.075      0.940      -5.878       6.347\n",
      "FullBath                  2.6073      2.240      1.164      0.245      -1.787       7.002\n",
      "HalfBath                 -0.1210      2.132     -0.057      0.955      -4.304       4.062\n",
      "BedroomAbvGr             -5.5102      1.378     -3.998      0.000      -8.214      -2.807\n",
      "KitchenAbvGr            -15.7828      5.720     -2.759      0.006     -27.005      -4.560\n",
      "TotRmsAbvGrd              1.3460      0.973      1.383      0.167      -0.563       3.255\n",
      "Fireplaces                2.7517      1.369      2.010      0.045       0.065       5.438\n",
      "GarageCars                4.3440      2.217      1.959      0.050      -0.006       8.694\n",
      "GarageArea                0.0130      0.008      1.711      0.087      -0.002       0.028\n",
      "WoodDeckSF                0.0138      0.006      2.313      0.021       0.002       0.025\n",
      "OpenPorchSF               0.0126      0.012      1.067      0.286      -0.011       0.036\n",
      "EnclosedPorch             0.0054      0.013      0.420      0.674      -0.020       0.030\n",
      "3SsnPorch                 0.0248      0.023      1.073      0.284      -0.021       0.070\n",
      "ScreenPorch               0.0368      0.013      2.924      0.004       0.012       0.061\n",
      "PoolArea                  0.0712      0.018      3.895      0.000       0.035       0.107\n",
      "MiscVal                  -0.0003      0.001     -0.217      0.828      -0.003       0.003\n",
      "MoSold                   -0.6250      0.253     -2.470      0.014      -1.122      -0.129\n",
      "YrSold                   -0.1662      0.524     -0.317      0.751      -1.194       0.862\n",
      "SellerAge                 0.0188      0.029      0.655      0.513      -0.038       0.075\n",
      "MSZoning_FV              30.9023     12.185      2.536      0.011       6.998      54.807\n",
      "MSZoning_RH              24.2619     12.264      1.978      0.048       0.202      48.322\n",
      "MSZoning_RL              25.9669     10.440      2.487      0.013       5.485      46.449\n",
      "MSZoning_RM              25.0275      9.770      2.562      0.011       5.860      44.195\n",
      "Street_Pave              39.0151     12.257      3.183      0.001      14.970      63.061\n",
      "LotShape_IR2              4.4850      4.311      1.040      0.298      -3.973      12.943\n",
      "LotShape_IR3              3.4415      8.788      0.392      0.695     -13.798      20.682\n",
      "LotShape_Reg              0.5885      1.660      0.355      0.723      -2.668       3.845\n",
      "LandContour_HLS          13.8556      5.277      2.626      0.009       3.503      24.208\n",
      "LandContour_Low          -4.0487      6.507     -0.622      0.534     -16.815       8.717\n",
      "LandContour_Lvl           7.3317      3.801      1.929      0.054      -0.126      14.790\n",
      "Utilities_NoSeWa        -28.9880     26.392     -1.098      0.272     -80.764      22.788\n",
      "LotConfig_CulDSac         7.6469      3.319      2.304      0.021       1.136      14.157\n",
      "LotConfig_FR2            -5.9095      4.152     -1.423      0.155     -14.054       2.235\n",
      "LotConfig_FR3           -13.4303     13.051     -1.029      0.304     -39.034      12.174\n",
      "LotConfig_Inside         -1.2247      1.800     -0.680      0.496      -4.756       2.307\n",
      "LandSlope_Mod            10.4934      4.026      2.606      0.009       2.595      18.392\n",
      "LandSlope_Sev           -25.6042     11.064     -2.314      0.021     -47.310      -3.899\n",
      "Neighborhood_Blueste     -3.1281     19.335     -0.162      0.871     -41.060      34.804\n",
      "Neighborhood_BrDale       8.3045     11.107      0.748      0.455     -13.486      30.095\n",
      "Neighborhood_BrkSide     -2.1318      9.486     -0.225      0.822     -20.742      16.478\n",
      "Neighborhood_ClearCr    -12.9763      9.406     -1.380      0.168     -31.430       5.478\n",
      "Neighborhood_CollgCr     -9.7353      7.322     -1.330      0.184     -24.101       4.630\n",
      "Neighborhood_Crawfor      9.4938      8.656      1.097      0.273      -7.488      26.475\n",
      "Neighborhood_Edwards    -16.8622      8.066     -2.090      0.037     -32.687      -1.038\n",
      "Neighborhood_Gilbert    -13.8101      7.834     -1.763      0.078     -29.178       1.558\n",
      "Neighborhood_IDOTRR      -7.5247     10.821     -0.695      0.487     -28.753      13.704\n",
      "Neighborhood_MeadowV     -1.8754     11.389     -0.165      0.869     -24.220      20.469\n",
      "Neighborhood_Mitchel    -20.5084      8.267     -2.481      0.013     -36.727      -4.290\n",
      "Neighborhood_NAmes      -14.5976      7.891     -1.850      0.065     -30.078       0.883\n",
      "Neighborhood_NPkVill      8.0701     14.309      0.564      0.573     -20.002      36.143\n",
      "Neighborhood_NWAmes     -20.6830      8.136     -2.542      0.011     -36.645      -4.721\n",
      "Neighborhood_NoRidge     28.7353      8.386      3.427      0.001      12.283      45.187\n",
      "Neighborhood_NridgHt     24.5023      7.366      3.326      0.001      10.052      38.953\n",
      "Neighborhood_OldTown    -13.1412      9.659     -1.360      0.174     -32.091       5.808\n",
      "Neighborhood_SWISU       -9.7049      9.815     -0.989      0.323     -28.961       9.551\n",
      "Neighborhood_Sawyer     -10.3562      8.219     -1.260      0.208     -26.481       5.769\n",
      "Neighborhood_SawyerW     -6.3815      7.849     -0.813      0.416     -21.779       9.016\n",
      "Neighborhood_Somerst      0.1453      8.958      0.016      0.987     -17.429      17.720\n",
      "Neighborhood_StoneBr     38.7983      8.374      4.633      0.000      22.370      55.226\n",
      "Neighborhood_Timber      -5.9765      8.355     -0.715      0.475     -22.367      10.415\n",
      "Neighborhood_Veenker      3.1318     10.717      0.292      0.770     -17.893      24.157\n",
      "Condition1_Feedr          2.9787      5.090      0.585      0.558      -7.006      12.964\n",
      "Condition1_Norm          12.1797      4.196      2.903      0.004       3.949      20.411\n",
      "Condition1_PosA           7.5462     10.281      0.734      0.463     -12.623      27.715\n",
      "Condition1_PosN           8.0703      7.600      1.062      0.288      -6.840      22.980\n",
      "Condition1_RRAe         -16.8120      9.359     -1.796      0.073     -35.173       1.549\n",
      "Condition1_RRAn           6.4886      7.000      0.927      0.354      -7.244      20.221\n",
      "Condition1_RRNe          -7.5870     18.351     -0.413      0.679     -43.588      28.414\n",
      "Condition1_RRNn           3.9059     13.081      0.299      0.765     -21.756      29.568\n",
      "Condition2_Feedr         -9.2843     23.012     -0.403      0.687     -54.430      35.862\n",
      "Condition2_Norm          -7.4675     19.586     -0.381      0.703     -45.892      30.957\n",
      "Condition2_PosA          18.7431     37.977      0.494      0.622     -55.760      93.247\n",
      "Condition2_PosN        -230.0860     27.568     -8.346      0.000    -284.169    -176.003\n",
      "Condition2_RRAe        -128.8592     46.729     -2.758      0.006    -220.534     -37.184\n",
      "Condition2_RRAn         -12.2493     31.885     -0.384      0.701     -74.803      50.304\n",
      "Condition2_RRNn          -9.0241     27.057     -0.334      0.739     -62.105      44.057\n",
      "BldgType_2fmCon          -6.1540     12.849     -0.479      0.632     -31.362      19.054\n",
      "BldgType_Duplex          -0.9753      7.436     -0.131      0.896     -15.563      13.612\n",
      "BldgType_Twnhs          -25.3452     10.132     -2.502      0.012     -45.222      -5.468\n",
      "BldgType_TwnhsE         -23.1349      9.174     -2.522      0.012     -41.132      -5.138\n",
      "HouseStyle_1.5Unf        10.9453      7.884      1.388      0.165      -4.522      26.412\n",
      "HouseStyle_1Story         8.7718      4.324      2.029      0.043       0.289      17.255\n",
      "HouseStyle_2.5Fin       -17.2961     12.282     -1.408      0.159     -41.391       6.799\n",
      "HouseStyle_2.5Unf       -11.2602      9.374     -1.201      0.230     -29.651       7.130\n",
      "HouseStyle_2Story        -6.4283      3.543     -1.815      0.070     -13.378       0.522\n",
      "HouseStyle_SFoyer         7.7688      6.179      1.257      0.209      -4.354      19.891\n",
      "HouseStyle_SLvl           7.3537      5.448      1.350      0.177      -3.335      18.042\n",
      "RoofStyle_Gable           1.4406     18.716      0.077      0.939     -35.278      38.159\n",
      "RoofStyle_Gambrel         4.2138     20.474      0.206      0.837     -35.952      44.380\n",
      "RoofStyle_Hip             3.0827     18.766      0.164      0.870     -33.734      39.899\n",
      "RoofStyle_Mansard        17.4189     21.816      0.798      0.425     -25.380      60.218\n",
      "RoofStyle_Shed           88.5552     35.452      2.498      0.013      19.004     158.107\n",
      "RoofMatl_CompShg        648.3780     32.918     19.697      0.000     583.799     712.957\n",
      "RoofMatl_Membran        736.1461     47.623     15.458      0.000     642.717     829.575\n",
      "RoofMatl_Metal          695.7496     47.032     14.793      0.000     603.482     788.018\n",
      "RoofMatl_Roll           649.2038     41.519     15.636      0.000     567.752     730.656\n",
      "RoofMatl_Tar&Grv        653.7917     37.834     17.281      0.000     579.568     728.015\n",
      "RoofMatl_WdShake        628.5685     36.634     17.158      0.000     556.700     700.437\n",
      "RoofMatl_WdShngl        725.3380     34.187     21.217      0.000     658.269     792.407\n",
      "Exterior1st_AsphShn      -9.9223     33.850     -0.293      0.769     -76.330      56.486\n",
      "Exterior1st_BrkComm     -11.0882     28.314     -0.392      0.695     -66.636      44.460\n",
      "Exterior1st_BrkFace       6.7992     12.511      0.543      0.587     -17.746      31.344\n",
      "Exterior1st_CBlock      -13.8114     13.759     -1.004      0.316     -40.804      13.181\n",
      "Exterior1st_CemntBd     -13.9002     19.173     -0.725      0.469     -51.514      23.714\n",
      "Exterior1st_HdBoard     -12.2787     12.576     -0.976      0.329     -36.951      12.394\n",
      "Exterior1st_ImStucc     -67.3861     28.406     -2.372      0.018    -123.113     -11.659\n",
      "Exterior1st_MetalSd      -1.8097     14.470     -0.125      0.900     -30.198      26.579\n",
      "Exterior1st_Plywood     -16.4918     12.448     -1.325      0.185     -40.914       7.930\n",
      "Exterior1st_Stone       -12.8974     24.158     -0.534      0.594     -60.291      34.496\n",
      "Exterior1st_Stucco       -3.9203     13.783     -0.284      0.776     -30.960      23.119\n",
      "Exterior1st_VinylSd     -16.3497     13.174     -1.241      0.215     -42.195       9.495\n",
      "Exterior1st_Wd Sdng     -12.4670     12.039     -1.036      0.301     -36.086      11.152\n",
      "Exterior1st_WdShing      -5.0114     13.042     -0.384      0.701     -30.598      20.575\n",
      "Exterior2nd_AsphShn       6.8515     22.624      0.303      0.762     -37.534      51.237\n",
      "Exterior2nd_Brk Cmn      13.3883     20.612      0.650      0.516     -27.049      53.825\n",
      "Exterior2nd_BrkFace      -1.3747     13.186     -0.104      0.917     -27.243      24.494\n",
      "Exterior2nd_CBlock      -13.8114     13.759     -1.004      0.316     -40.804      13.181\n",
      "Exterior2nd_CmentBd      12.5357     19.093      0.657      0.512     -24.921      49.992\n",
      "Exterior2nd_HdBoard       6.9346     12.341      0.562      0.574     -17.277      31.146\n",
      "Exterior2nd_ImStucc      32.5259     14.311      2.273      0.023       4.451      60.601\n",
      "Exterior2nd_MetalSd       1.9362     14.303      0.135      0.892     -26.124      29.996\n",
      "Exterior2nd_Other        -6.2165     28.144     -0.221      0.825     -61.431      48.998\n",
      "Exterior2nd_Plywood       8.0113     11.980      0.669      0.504     -15.492      31.514\n",
      "Exterior2nd_Stone       -11.3294     17.204     -0.659      0.510     -45.081      22.422\n",
      "Exterior2nd_Stucco        1.8301     13.556      0.135      0.893     -24.764      28.425\n",
      "Exterior2nd_VinylSd      15.6149     12.905      1.210      0.227      -9.703      40.933\n",
      "Exterior2nd_Wd Sdng       9.8774     11.835      0.835      0.404     -13.341      33.096\n",
      "Exterior2nd_Wd Shng       2.3261     12.374      0.188      0.851     -21.949      26.602\n",
      "ExterQual_Fa             -8.5169     10.845     -0.785      0.432     -29.793      12.760\n",
      "ExterQual_Gd            -30.8700      4.783     -6.455      0.000     -40.253     -21.487\n",
      "ExterQual_TA            -30.7147      5.355     -5.736      0.000     -41.219     -20.210\n",
      "ExterCond_Fa             -3.2014     18.814     -0.170      0.865     -40.111      33.709\n",
      "ExterCond_Gd             -8.2720     17.985     -0.460      0.646     -43.555      27.011\n",
      "ExterCond_Po             11.0863     32.733      0.339      0.735     -53.129      75.302\n",
      "ExterCond_TA             -5.6692     17.955     -0.316      0.752     -40.894      29.555\n",
      "Foundation_CBlock         1.8697      3.183      0.587      0.557      -4.374       8.114\n",
      "Foundation_PConc          4.8870      3.498      1.397      0.163      -1.976      11.750\n",
      "Foundation_Slab           8.8526      7.843      1.129      0.259      -6.533      24.238\n",
      "Foundation_Stone          1.0748     10.860      0.099      0.921     -20.230      22.380\n",
      "Foundation_Wood         -33.3044     15.093     -2.207      0.028     -62.913      -3.695\n",
      "Heating_GasA             -7.0352     25.352     -0.277      0.781     -56.772      42.701\n",
      "Heating_GasW            -15.4432     26.168     -0.590      0.555     -66.780      35.893\n",
      "Heating_Grav            -14.6034     27.463     -0.532      0.595     -68.481      39.275\n",
      "Heating_OthW            -45.7547     31.664     -1.445      0.149    -107.874      16.365\n",
      "Heating_Wall              8.5945     29.212      0.294      0.769     -48.715      65.903\n",
      "HeatingQC_Fa             -1.3933      4.798     -0.290      0.772     -10.807       8.020\n",
      "HeatingQC_Gd             -3.6817      2.136     -1.724      0.085      -7.872       0.509\n",
      "HeatingQC_Po              7.5653     27.435      0.276      0.783     -46.258      61.388\n",
      "HeatingQC_TA             -4.3069      2.117     -2.035      0.042      -8.460      -0.154\n",
      "CentralAir_Y             -3.2881      3.867     -0.850      0.395     -10.875       4.299\n",
      "KitchenQual_Fa          -21.1015      6.342     -3.327      0.001     -33.543      -8.660\n",
      "KitchenQual_Gd          -27.8615      3.482     -8.001      0.000     -34.693     -21.030\n",
      "KitchenQual_TA          -25.4550      3.987     -6.384      0.000     -33.278     -17.632\n",
      "Functional_Maj2           0.0851     13.593      0.006      0.995     -26.582      26.752\n",
      "Functional_Min1           4.2819      8.617      0.497      0.619     -12.623      21.186\n",
      "Functional_Min2           8.5204      8.557      0.996      0.320      -8.267      25.307\n",
      "Functional_Mod           -7.1607     10.544     -0.679      0.497     -27.846      13.525\n",
      "Functional_Sev          -59.6811     27.540     -2.167      0.030    -113.709      -5.653\n",
      "Functional_Typ           19.6744      7.389      2.663      0.008       5.179      34.170\n",
      "PavedDrive_P             -3.2294      5.559     -0.581      0.561     -14.135       7.676\n",
      "PavedDrive_Y             -2.0068      3.436     -0.584      0.559      -8.748       4.734\n",
      "SaleType_CWD             23.3531     13.329      1.752      0.080      -2.795      49.502\n",
      "SaleType_Con             34.5880     18.385      1.881      0.060      -1.480      70.656\n",
      "SaleType_ConLD           16.7448      9.996      1.675      0.094      -2.865      36.354\n",
      "SaleType_ConLI            9.3323     11.896      0.785      0.433     -14.005      32.669\n",
      "SaleType_ConLw           -2.1285     12.389     -0.172      0.864     -26.433      22.176\n",
      "SaleType_New             34.6665     16.012      2.165      0.031       3.254      66.079\n",
      "SaleType_Oth             18.7704     14.988      1.252      0.211     -10.634      48.174\n",
      "SaleType_WD               0.5931      4.330      0.137      0.891      -7.901       9.087\n",
      "SaleCondition_AdjLand     8.4925     14.472      0.587      0.557     -19.899      36.884\n",
      "SaleCondition_Alloca      5.0146      8.753      0.573      0.567     -12.157      22.186\n",
      "SaleCondition_Family     -1.3081      6.310     -0.207      0.836     -13.687      11.071\n",
      "SaleCondition_Normal      6.5563      2.971      2.207      0.028       0.728      12.385\n",
      "SaleCondition_Partial    -9.4128     15.433     -0.610      0.542     -39.689      20.864\n",
      "const                 -1204.4422   1063.045     -1.133      0.257   -3289.956     881.071\n",
      "==============================================================================\n",
      "Omnibus:                      495.675   Durbin-Watson:                   1.917\n",
      "Prob(Omnibus):                  0.000   Jarque-Bera (JB):            12243.270\n",
      "Skew:                           1.010   Prob(JB):                         0.00\n",
      "Kurtosis:                      17.042   Cond. No.                     1.67e+17\n",
      "==============================================================================\n",
      "\n",
      "Notes:\n",
      "[1] Standard Errors assume that the covariance matrix of the errors is correctly specified.\n",
      "[2] The smallest eigenvalue is 1.15e-23. This might indicate that there are\n",
      "strong multicollinearity problems or that the design matrix is singular.\n"
     ]
    }
   ],
   "source": [
    "import statsmodels as sm\n",
    "from statsmodels.regression.linear_model import OLS\n",
    "model = OLS(y, X.assign(const=1))\n",
    "results = model.fit()\n",
    "print(results.summary())"
   ]
  },
  {
   "cell_type": "markdown",
   "metadata": {},
   "source": [
    "Here, we can see the most influential data point on the regression line which is basically a singular point having the highest power to control the model."
   ]
  },
  {
   "cell_type": "code",
   "execution_count": 106,
   "metadata": {},
   "outputs": [
    {
     "name": "stdout",
     "output_type": "stream",
     "text": [
      "524 -10.83788956017457\n",
      "SalePrice 184.75\n"
     ]
    },
    {
     "name": "stderr",
     "output_type": "stream",
     "text": [
      "/home/rober/.local/lib/python3.7/site-packages/statsmodels/stats/outliers_influence.py:696: RuntimeWarning: invalid value encountered in sqrt\n",
      "  return self.resid / sigma / np.sqrt(1 - hii)\n"
     ]
    },
    {
     "data": {
      "text/plain": [
       "MSSubClass            60\n",
       "MSZoning              RL\n",
       "LotArea            40094\n",
       "Street              Pave\n",
       "LotShape             IR1\n",
       "                  ...   \n",
       "YrSold              2007\n",
       "SaleType             New\n",
       "SaleCondition    Partial\n",
       "SalePrice         184.75\n",
       "SellerAge             20\n",
       "Name: 524, Length: 62, dtype: object"
      ]
     },
     "metadata": {},
     "output_type": "display_data"
    }
   ],
   "source": [
    "from statsmodels.stats.outliers_influence import OLSInfluence\n",
    "\n",
    "influence = OLSInfluence(results)\n",
    "sresiduals = influence.resid_studentized_internal\n",
    "print(sresiduals.idxmin(), sresiduals.min())\n",
    "\n",
    "outlier = X.loc[sresiduals.idxmin(), :]\n",
    "print('SalePrice', y.loc[sresiduals.idxmin()])\n",
    "display(data.loc[sresiduals.idxmin()])"
   ]
  },
  {
   "cell_type": "code",
   "execution_count": 134,
   "metadata": {},
   "outputs": [
    {
     "data": {
      "text/plain": [
       "Id\n",
       "12      0.004248\n",
       "31      0.004624\n",
       "67      0.005699\n",
       "89      0.006328\n",
       "94      0.004928\n",
       "          ...   \n",
       "1324    0.004119\n",
       "1325    0.011586\n",
       "1360    0.005322\n",
       "1387    0.015460\n",
       "1388    0.024807\n",
       "Length: 105, dtype: float64"
      ]
     },
     "metadata": {},
     "output_type": "display_data"
    },
    {
     "data": {
      "text/plain": [
       "<matplotlib.collections.PathCollection at 0x7f7678f4af10>"
      ]
     },
     "execution_count": 134,
     "metadata": {},
     "output_type": "execute_result"
    },
    {
     "data": {
      "image/png": "[encoded data removed]",
      "text/plain": [
       "<Figure size 640x480 with 1 Axes>"
      ]
     },
     "metadata": {},
     "output_type": "display_data"
    }
   ],
   "source": [
    "import matplotlib.pyplot as plt\n",
    "# filter the relevant points using the 4/n rule of thumb\n",
    "possible_outliers = influence.cooks_distance[0][influence.cooks_distance[0] > 4/len(data)]\n",
    "display(possible_outliers)\n",
    "plt.scatter(possible_outliers.index,possible_outliers)"
   ]
  },
  {
   "cell_type": "code",
   "execution_count": 159,
   "metadata": {},
   "outputs": [
    {
     "name": "stdout",
     "output_type": "stream",
     "text": [
      "(978, 189) (978,)\n",
      "(915, 189) (915,)\n",
      "MAE: 17.015\n"
     ]
    },
    {
     "name": "stderr",
     "output_type": "stream",
     "text": [
      "/home/rober/.local/lib/python3.7/site-packages/ipykernel_launcher.py:9: UserWarning: Boolean Series key will be reindexed to match DataFrame index.\n",
      "  if __name__ == '__main__':\n"
     ]
    }
   ],
   "source": [
    "import numpy as np\n",
    "\n",
    "cook_outliers_mask = influence.cooks_distance[0].mask(influence.cooks_distance[0] > 4/len(data), -1)\n",
    "cook_mask = cook_outliers_mask != -1\n",
    "\n",
    "print(X_train.shape, y_train.shape)\n",
    "\n",
    "# select all rows that are not outliers\n",
    "X_train_cook, y_train_cook = X_train[cook_mask], y_train[cook_mask]\n",
    "\n",
    "# summarize the shape of the updated training dataset\n",
    "print(X_train_cook.shape, y_train_cook.shape)\n",
    "\n",
    "# fit the model\n",
    "model = LinearRegression()\n",
    "model.fit(X_train_cook, y_train_cook)\n",
    "# evaluate the model\n",
    "y_cook = model.predict(X_test)\n",
    "# evaluate predictions\n",
    "mae = mean_absolute_error(y_test, y_cook)\n",
    "print('MAE: %.3f' % mae)"
   ]
  },
  {
   "cell_type": "markdown",
   "metadata": {},
   "source": [
    "# $Z$-Score\n",
    "\n",
    "$Z$-score is an important concept in statistics. It is also called standard score. This score helps to understand if a data value is greater or smaller than mean and how far away it is from the mean. More specifically, Z score tells how many standard deviations away a data point is from the mean.\n",
    "\n",
    "It is standard to choose around 3 standard deviations to decide to remove a value. Don't forget that this model relies on assuming that the data is distributed as a Gaussian. In this case, we have taken a brute approach and we have chosen 6 standard deviations in ANY of the features. "
   ]
  },
  {
   "cell_type": "code",
   "execution_count": 180,
   "metadata": {},
   "outputs": [
    {
     "name": "stdout",
     "output_type": "stream",
     "text": [
      "(978, 189) (978,)\n",
      "(541, 189) (541,)\n",
      "MAE: 22.238\n"
     ]
    },
    {
     "name": "stderr",
     "output_type": "stream",
     "text": [
      "/home/rober/.local/lib/python3.7/site-packages/ipykernel_launcher.py:11: UserWarning: Boolean Series key will be reindexed to match DataFrame index.\n",
      "  # This is added back by InteractiveShellApp.init_path()\n"
     ]
    }
   ],
   "source": [
    "from scipy.stats import zscore\n",
    "\n",
    "zscore_series = pd.DataFrame(data = abs(zscore(X)), index = X.index).max(axis=1)\n",
    "zscore_outliers_mask = zscore_series.mask(zscore_series > 6, -1)\n",
    "zscore_mask = zscore_outliers_mask != -1\n",
    "zscore_mask\n",
    "\n",
    "print(X_train.shape, y_train.shape)\n",
    "\n",
    "# select all rows that are not outliers\n",
    "X_train_zscore, y_train_zscore = X_train[zscore_mask], y_train[zscore_mask]\n",
    "\n",
    "# summarize the shape of the updated training dataset\n",
    "print(X_train_zscore.shape, y_train_zscore.shape)\n",
    "\n",
    "# fit the model\n",
    "model = LinearRegression()\n",
    "model.fit(X_train_zscore, y_train_zscore)\n",
    "# evaluate the model\n",
    "y_zscore = model.predict(X_test)\n",
    "# evaluate predictions\n",
    "mae = mean_absolute_error(y_test, y_zscore)\n",
    "print('MAE: %.3f' % mae)"
   ]
  },
  {
   "cell_type": "markdown",
   "metadata": {},
   "source": [
    "## Winsorize\n",
    "\n"
   ]
  },
  {
   "cell_type": "code",
   "execution_count": 23,
   "metadata": {},
   "outputs": [
    {
     "name": "stdout",
     "output_type": "stream",
     "text": [
      "MAE: 19.756\n"
     ]
    }
   ],
   "source": [
    "from scipy.stats.mstats import winsorize\n",
    "import numpy as np\n",
    "X_train_win = [winsorize(X[col], limits=[0.05,0.05]) for col in X.columns.to_list()]\n",
    "X_train_win = pd.DataFrame(np.transpose(X_train_win),columns=X.columns.to_list())\n",
    "y_train_win = winsorize(y)\n",
    "model = LinearRegression()\n",
    "\n",
    "model.fit(X_train_win, y_train_win)\n",
    "# evaluate the model\n",
    "y_win = model.predict(X_test)\n",
    "# evaluate predictions\n",
    "mae = mean_absolute_error(y_test, y_win)\n",
    "print('MAE: %.3f' % mae)\n",
    "\n"
   ]
  },
  {
   "cell_type": "code",
   "execution_count": null,
   "metadata": {},
   "outputs": [],
   "source": []
  }
 ],
 "metadata": {
  "kernelspec": {
   "display_name": "Python 3 (ipykernel)",
   "language": "python",
   "name": "python3"
  },
  "language_info": {
   "codemirror_mode": {
    "name": "ipython",
    "version": 3
   },
   "file_extension": ".py",
   "mimetype": "text/x-python",
   "name": "python",
   "nbconvert_exporter": "python",
   "pygments_lexer": "ipython3",
   "version": "3.10.6"
  }
 },
 "nbformat": 4,
 "nbformat_minor": 4
}
